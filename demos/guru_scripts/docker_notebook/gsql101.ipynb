{
 "cells": [
  {
   "cell_type": "markdown",
   "metadata": {},
   "source": [
    "### Write sample data files to disk"
   ]
  },
  {
   "cell_type": "code",
   "execution_count": 1,
   "metadata": {},
   "outputs": [
    {
     "name": "stdout",
     "output_type": "stream",
     "text": [
      "Overwriting person.csv\n"
     ]
    }
   ],
   "source": [
    "%%writefile person.csv\n",
    "name,gender,age,state\n",
    "Tom,male,40,ca\n",
    "Dan,male,34,ny\n",
    "Jenny,female,25,tx\n",
    "Kevin,male,28,az\n",
    "Amily,female,22,ca\n",
    "Nancy,female,20,ky\n",
    "Jack,male,26,fl"
   ]
  },
  {
   "cell_type": "code",
   "execution_count": 2,
   "metadata": {},
   "outputs": [
    {
     "name": "stdout",
     "output_type": "stream",
     "text": [
      "Overwriting friendship.csv\n"
     ]
    }
   ],
   "source": [
    "%%writefile friendship.csv\n",
    "person1,person2,date\n",
    "Tom,Dan,2017-06-03\n",
    "Tom,Jenny,2015-01-01\n",
    "Dan,Jenny,2016-08-03\n",
    "Jenny,Amily,2015-06-08\n",
    "Dan,Nancy,2016-01-03\n",
    "Nancy,Jack,2017-03-02\n",
    "Dan,Kevin,2015-12-30"
   ]
  },
  {
   "cell_type": "markdown",
   "metadata": {},
   "source": [
    "### Write the graph schema to disk"
   ]
  },
  {
   "cell_type": "code",
   "execution_count": 3,
   "metadata": {},
   "outputs": [
    {
     "name": "stdout",
     "output_type": "stream",
     "text": [
      "Overwriting schema.gsql\n"
     ]
    }
   ],
   "source": [
    "%%writefile schema.gsql\n",
    "drop all\n",
    "\n",
    "create vertex person (primary_id name string, name string, age int, \n",
    "                      gender string, state string)\n",
    "create undirected edge friendship (from person, to person, \n",
    "                                   connect_day datetime)\n",
    "\n",
    "create graph social (person, friendship)\n"
   ]
  },
  {
   "cell_type": "markdown",
   "metadata": {},
   "source": [
    "### Load the schema in gsql"
   ]
  },
  {
   "cell_type": "code",
   "execution_count": 4,
   "metadata": {},
   "outputs": [
    {
     "name": "stdout",
     "output_type": "stream",
     "text": [
      "Dropping all, about 1 minute ...\n",
      "Abort all active loading jobs\n",
      "Try to abort all loading jobs on graph social, it may take a while ...\n",
      "[ABORT_SUCCESS] No active Loading Job to abort.\n",
      "\n",
      "Shutdown restpp gse gpe ...\n",
      "Graph store /home/tigergraph/tigergraph/gstore/0/ has been cleared!\n",
      "Everything is dropped.\n",
      "The vertex type person is created.\n",
      "The edge type friendship is created.\n",
      "\n",
      "Restarting gse gpe restpp ...\n",
      "\n",
      "Finish restarting services in 29.769 seconds!\n",
      "The graph social is created.\n"
     ]
    }
   ],
   "source": [
    "!gsql schema.gsql"
   ]
  },
  {
   "cell_type": "markdown",
   "metadata": {},
   "source": [
    "### Write a data loading job to disk and run it"
   ]
  },
  {
   "cell_type": "code",
   "execution_count": 5,
   "metadata": {},
   "outputs": [
    {
     "name": "stdout",
     "output_type": "stream",
     "text": [
      "Overwriting loadsocial.gsql\n"
     ]
    }
   ],
   "source": [
    "%%writefile loadsocial.gsql\n",
    "\n",
    "use graph social \n",
    "\n",
    "create loading job load_social for graph social {\n",
    "    define filename file1=\"person.csv\";\n",
    "    define filename file2=\"friendship.csv\";\n",
    "    \n",
    "    load file1 to vertex person values ($\"name\", $\"name\", $\"age\", $\"gender\", $\"state\") using header=\"true\", separator=\",\";\n",
    "    \n",
    "    load file2 to edge friendship values ($\"person1\", $\"person2\", $\"date\") using header=\"true\", separator=\",\";\n",
    "    \n",
    "}\n",
    "\n",
    "run loading job load_social"
   ]
  },
  {
   "cell_type": "code",
   "execution_count": 6,
   "metadata": {},
   "outputs": [
    {
     "name": "stdout",
     "output_type": "stream",
     "text": [
      "Using graph 'social'\n",
      "The job load_social is created.\n",
      "[Tip: Use \"CTRL + C\" to stop displaying the loading status update, then use \"SHOW LOADING STATUS jobid\" to track the loading progress again]\n",
      "[Tip: Manage loading jobs with \"ABORT/RESUME LOADING JOB jobid\"]\n",
      "Starting the following job, i.e.\n",
      "  JobName: load_social, jobid: social.load_social.file.m1.1592237888429\n",
      "  Loading log: '/home/tigergraph/tigergraph/logs/restpp/restpp_loader_logs/social/social.load_social.file.m1.1592237888429.log'\n",
      "\n",
      "Job \"social.load_social.file.m1.1592237888429\" loading status\n",
      "[RUNNING] m1 ( Finished: 0 / Total: 2 )\n",
      "\u001b[2A\u001b[2KJob \"social.load_social.file.m1.1592237888429\" loading status\n",
      "\u001b[2K[RUNNING] m1 ( Finished: 2 / Total: 2 )\n",
      "  [LOADED]\n",
      "  +---------------------------------------------------------------------------+\n",
      "  |                       FILENAME |   LOADED LINES |   AVG SPEED |   DURATION|\n",
      "  |    /home/tigergraph/person.csv |              8 |       7 l/s |     1.00 s|\n",
      "  |/home/tigergraph/friendship.csv |              8 |       7 l/s |     1.00 s|\n",
      "  +---------------------------------------------------------------------------+\n",
      "\u001b[8A\u001b[2KJob \"social.load_social.file.m1.1592237888429\" loading status\n",
      "\u001b[2K[FINISHED] m1 ( Finished: 2 / Total: 2 )\n",
      "\u001b[2K  [LOADED]\n",
      "\u001b[2K  +---------------------------------------------------------------------------+\n",
      "\u001b[2K  |                       FILENAME |   LOADED LINES |   AVG SPEED |   DURATION|\n",
      "\u001b[2K  |/home/tigergraph/friendship.csv |              8 |       7 l/s |     1.00 s|\n",
      "\u001b[2K  |    /home/tigergraph/person.csv |              8 |       7 l/s |     1.00 s|\n",
      "\u001b[2K  +---------------------------------------------------------------------------+\n"
     ]
    }
   ],
   "source": [
    "!gsql loadsocial.gsql"
   ]
  },
  {
   "cell_type": "markdown",
   "metadata": {},
   "source": [
    "### Define a function to capture and process gsql queries"
   ]
  },
  {
   "cell_type": "code",
   "execution_count": 7,
   "metadata": {},
   "outputs": [],
   "source": [
    "import subprocess, json\n",
    "\n",
    "def gsql(text, graph='social'):\n",
    "    \n",
    "    comp = subprocess.run(['gsql', '-g ' + graph, text], text=True, capture_output=True)\n",
    "    \n",
    "    try:\n",
    "        json_object = json.loads(comp.stdout)\n",
    "    except:\n",
    "        return comp.stdout.replace('\\\\n','\\n')\n",
    "    else:\n",
    "        return json_object"
   ]
  },
  {
   "cell_type": "markdown",
   "metadata": {},
   "source": [
    "### Select queries return a list of dicts"
   ]
  },
  {
   "cell_type": "code",
   "execution_count": 8,
   "metadata": {},
   "outputs": [
    {
     "data": {
      "text/plain": [
       "[{'count': 7, 'v_type': 'person'}]"
      ]
     },
     "execution_count": 8,
     "metadata": {},
     "output_type": "execute_result"
    }
   ],
   "source": [
    "gsql('select count(*) from person')"
   ]
  },
  {
   "cell_type": "code",
   "execution_count": 9,
   "metadata": {},
   "outputs": [
    {
     "data": {
      "text/plain": [
       "[{'count': 7, 'v_type': 'person'}]"
      ]
     },
     "execution_count": 9,
     "metadata": {},
     "output_type": "execute_result"
    }
   ],
   "source": [
    "gsql('select count() from person')"
   ]
  },
  {
   "cell_type": "markdown",
   "metadata": {},
   "source": [
    "### The `from` argument can be a pattern "
   ]
  },
  {
   "cell_type": "code",
   "execution_count": 10,
   "metadata": {},
   "outputs": [
    {
     "data": {
      "text/plain": [
       "[{'count': 7, 'e_type': 'friendship'}]"
      ]
     },
     "execution_count": 10,
     "metadata": {},
     "output_type": "execute_result"
    }
   ],
   "source": [
    "gsql('select count() from person-(friendship)-person')"
   ]
  },
  {
   "cell_type": "markdown",
   "metadata": {},
   "source": [
    "### The `where` arument is a filter on the `from` pattern"
   ]
  },
  {
   "cell_type": "code",
   "execution_count": 11,
   "metadata": {},
   "outputs": [
    {
     "data": {
      "text/plain": [
       "[{'v_id': 'Tom',\n",
       "  'attributes': {'gender': 'male', 'name': 'Tom', 'state': 'ca', 'age': 40},\n",
       "  'v_type': 'person'}]"
      ]
     },
     "execution_count": 11,
     "metadata": {},
     "output_type": "execute_result"
    }
   ],
   "source": [
    "gsql('select * from person where primary_id==\"Tom\"')"
   ]
  },
  {
   "cell_type": "code",
   "execution_count": 13,
   "metadata": {},
   "outputs": [
    {
     "data": {
      "text/plain": [
       "[{'v_id': 'Jack',\n",
       "  'attributes': {'gender': 'male', 'name': 'Jack', 'state': 'fl', 'age': 26},\n",
       "  'v_type': 'person'},\n",
       " {'v_id': 'Kevin',\n",
       "  'attributes': {'gender': 'male', 'name': 'Kevin', 'state': 'az', 'age': 28},\n",
       "  'v_type': 'person'},\n",
       " {'v_id': 'Dan',\n",
       "  'attributes': {'gender': 'male', 'name': 'Dan', 'state': 'ny', 'age': 34},\n",
       "  'v_type': 'person'},\n",
       " {'v_id': 'Tom',\n",
       "  'attributes': {'gender': 'male', 'name': 'Tom', 'state': 'ca', 'age': 40},\n",
       "  'v_type': 'person'}]"
      ]
     },
     "execution_count": 13,
     "metadata": {},
     "output_type": "execute_result"
    }
   ],
   "source": [
    "gsql('select * from person where gender==\"male\"')"
   ]
  },
  {
   "cell_type": "code",
   "execution_count": 14,
   "metadata": {},
   "outputs": [
    {
     "data": {
      "text/plain": [
       "[26, 28, 34, 40]"
      ]
     },
     "execution_count": 14,
     "metadata": {},
     "output_type": "execute_result"
    }
   ],
   "source": [
    "[v[\"attributes\"][\"age\"] for v in \n",
    " gsql('select * from person where gender==\"male\"')]"
   ]
  },
  {
   "cell_type": "code",
   "execution_count": 15,
   "metadata": {},
   "outputs": [
    {
     "data": {
      "text/plain": [
       "[26, 28]"
      ]
     },
     "execution_count": 15,
     "metadata": {},
     "output_type": "execute_result"
    }
   ],
   "source": [
    "[v[\"attributes\"][\"age\"] for v in \n",
    " gsql('select age from person where gender==\"male\" and age < 30')]"
   ]
  },
  {
   "cell_type": "markdown",
   "metadata": {},
   "source": [
    "### Queries can saved and compiled"
   ]
  },
  {
   "cell_type": "code",
   "execution_count": 16,
   "metadata": {},
   "outputs": [
    {
     "name": "stdout",
     "output_type": "stream",
     "text": [
      "Overwriting hello.gsql\n"
     ]
    }
   ],
   "source": [
    "%%writefile hello.gsql\n",
    "\n",
    "create query hello(vertex<person> p) for graph social{\n",
    "    \n",
    "    start = {p};\n",
    "    tgt = select t from start:s-(friendship:e)-person:t ;\n",
    "    print tgt;\n",
    "}\n",
    "\n",
    "install query hello"
   ]
  },
  {
   "cell_type": "code",
   "execution_count": 17,
   "metadata": {},
   "outputs": [
    {
     "name": "stdout",
     "output_type": "stream",
     "text": [
      "Query hello could not be found.\r\n"
     ]
    }
   ],
   "source": [
    "!gsql -g social 'drop query hello'"
   ]
  },
  {
   "cell_type": "code",
   "execution_count": 18,
   "metadata": {},
   "outputs": [
    {
     "name": "stdout",
     "output_type": "stream",
     "text": [
      "The query hello has been added!\n",
      "Start installing queries, about 1 minute ...\n",
      "hello query: curl -X GET 'http://127.0.0.1:9000/query/social/hello?p=VALUE'. Add -H \"Authorization: Bearer TOKEN\" if authentication is enabled.\n",
      "\n",
      "[=================================================================] 100% (1/1) \n"
     ]
    }
   ],
   "source": [
    "!gsql -g social hello.gsql"
   ]
  },
  {
   "cell_type": "code",
   "execution_count": 19,
   "metadata": {},
   "outputs": [
    {
     "data": {
      "text/plain": [
       "{'error': False,\n",
       " 'message': '',\n",
       " 'version': {'schema': 0, 'edition': 'developer', 'api': 'v2'},\n",
       " 'results': [{'tgt': [{'v_id': 'Dan',\n",
       "     'attributes': {'gender': 'male', 'name': 'Dan', 'state': 'ny', 'age': 34},\n",
       "     'v_type': 'person'},\n",
       "    {'v_id': 'Jenny',\n",
       "     'attributes': {'gender': 'female',\n",
       "      'name': 'Jenny',\n",
       "      'state': 'tx',\n",
       "      'age': 25},\n",
       "     'v_type': 'person'}]}]}"
      ]
     },
     "execution_count": 19,
     "metadata": {},
     "output_type": "execute_result"
    }
   ],
   "source": [
    "gsql('run query hello(\"Tom\")')"
   ]
  },
  {
   "cell_type": "code",
   "execution_count": 20,
   "metadata": {},
   "outputs": [
    {
     "data": {
      "text/plain": [
       "[34, 25]"
      ]
     },
     "execution_count": 20,
     "metadata": {},
     "output_type": "execute_result"
    }
   ],
   "source": [
    "[v['attributes']['age'] for v in \n",
    " gsql('run query hello(\"Tom\")')['results'][0]['tgt']]"
   ]
  },
  {
   "cell_type": "markdown",
   "metadata": {},
   "source": [
    "### Accums store information while transversing the graph"
   ]
  },
  {
   "cell_type": "code",
   "execution_count": 21,
   "metadata": {},
   "outputs": [
    {
     "name": "stdout",
     "output_type": "stream",
     "text": [
      "Overwriting hello2.gsql\n"
     ]
    }
   ],
   "source": [
    "%%writefile hello2.gsql\n",
    "\n",
    "create query hello2(vertex<person> p) for graph social {\n",
    "    \n",
    "    OrAccum @visited = false;\n",
    "    AvgAccum @@aveAge;\n",
    "    \n",
    "    start = {p};\n",
    "    \n",
    "    firstHop = select t from start:s-(friendship:e)-person:t\n",
    "               accum t.@visited += true, s.@visited += true;\n",
    "    \n",
    "    secondHop = select t from firstHop:s-(friendship:e)-person:t\n",
    "                where t.@visited == false\n",
    "                post_accum @@aveAge += t.age;\n",
    "    \n",
    "    print secondHop;\n",
    "    print @@aveAge;\n",
    "            \n",
    "}\n",
    "\n",
    "install query hello2"
   ]
  },
  {
   "cell_type": "code",
   "execution_count": 22,
   "metadata": {},
   "outputs": [
    {
     "name": "stdout",
     "output_type": "stream",
     "text": [
      "The query hello2 has been added!\n",
      "Start installing queries, about 1 minute ...\n",
      "hello2 query: curl -X GET 'http://127.0.0.1:9000/query/social/hello2?p=VALUE'. Add -H \"Authorization: Bearer TOKEN\" if authentication is enabled.\n",
      "\n",
      "[=================================================================] 100% (1/1) \n"
     ]
    }
   ],
   "source": [
    "!gsql -g social hello2.gsql"
   ]
  },
  {
   "cell_type": "code",
   "execution_count": 23,
   "metadata": {},
   "outputs": [
    {
     "data": {
      "text/plain": [
       "{'error': False,\n",
       " 'message': '',\n",
       " 'version': {'schema': 0, 'edition': 'developer', 'api': 'v2'},\n",
       " 'results': [{'secondHop': [{'v_id': 'Amily',\n",
       "     'attributes': {'gender': 'female',\n",
       "      '@visited': False,\n",
       "      'name': 'Amily',\n",
       "      'state': 'ca',\n",
       "      'age': 22},\n",
       "     'v_type': 'person'},\n",
       "    {'v_id': 'Kevin',\n",
       "     'attributes': {'gender': 'male',\n",
       "      '@visited': False,\n",
       "      'name': 'Kevin',\n",
       "      'state': 'az',\n",
       "      'age': 28},\n",
       "     'v_type': 'person'},\n",
       "    {'v_id': 'Nancy',\n",
       "     'attributes': {'gender': 'female',\n",
       "      '@visited': False,\n",
       "      'name': 'Nancy',\n",
       "      'state': 'ky',\n",
       "      'age': 20},\n",
       "     'v_type': 'person'}]},\n",
       "  {'@@aveAge': 23.33333}]}"
      ]
     },
     "execution_count": 23,
     "metadata": {},
     "output_type": "execute_result"
    }
   ],
   "source": [
    "gsql('run query hello2(\"Tom\")')"
   ]
  },
  {
   "cell_type": "code",
   "execution_count": 24,
   "metadata": {},
   "outputs": [
    {
     "data": {
      "text/plain": [
       "23.33333"
      ]
     },
     "execution_count": 24,
     "metadata": {},
     "output_type": "execute_result"
    }
   ],
   "source": [
    "gsql('run query hello2(\"Tom\")')['results'][1]['@@aveAge']"
   ]
  },
  {
   "cell_type": "code",
   "execution_count": 25,
   "metadata": {},
   "outputs": [
    {
     "data": {
      "text/plain": [
       "[22, 28, 20]"
      ]
     },
     "execution_count": 25,
     "metadata": {},
     "output_type": "execute_result"
    }
   ],
   "source": [
    "ages = [v['attributes']['age'] for v in \n",
    "        gsql('run query hello2(\"Tom\")')['results'][0]['secondHop']]\n",
    "ages"
   ]
  },
  {
   "cell_type": "code",
   "execution_count": 26,
   "metadata": {},
   "outputs": [
    {
     "data": {
      "text/plain": [
       "23.333333333333332"
      ]
     },
     "execution_count": 26,
     "metadata": {},
     "output_type": "execute_result"
    }
   ],
   "source": [
    "sum(ages)/len(ages)"
   ]
  }
 ],
 "metadata": {
  "kernelspec": {
   "display_name": "Python 3",
   "language": "python",
   "name": "python3"
  },
  "language_info": {
   "codemirror_mode": {
    "name": "ipython",
    "version": 3
   },
   "file_extension": ".py",
   "mimetype": "text/x-python",
   "name": "python",
   "nbconvert_exporter": "python",
   "pygments_lexer": "ipython3",
   "version": "3.7.6"
  }
 },
 "nbformat": 4,
 "nbformat_minor": 4
}
