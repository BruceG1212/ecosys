{
 "cells": [
  {
   "cell_type": "markdown",
   "metadata": {},
   "source": [
    "# GSQL101 - on a Jupyter Notebook\n",
    "## Establish a connection to a TigerGraph server\n",
    "### Start a TigerGraph server, run the next cell and enter your server's ip address into the input box"
   ]
  },
  {
   "cell_type": "code",
   "execution_count": 1,
   "metadata": {},
   "outputs": [
    {
     "name": "stdout",
     "output_type": "stream",
     "text": [
      "yaniv.i.tgcloud.io\n"
     ]
    }
   ],
   "source": [
    "server_ip = input()"
   ]
  },
  {
   "cell_type": "markdown",
   "metadata": {},
   "source": [
    "### Make sure your server is running properly by logging in to TigerStudio\n",
    "You will need this to upload your data files."
   ]
  },
  {
   "cell_type": "code",
   "execution_count": 2,
   "metadata": {},
   "outputs": [
    {
     "name": "stdout",
     "output_type": "stream",
     "text": [
      "https://yaniv.i.tgcloud.io:14240\n"
     ]
    }
   ],
   "source": [
    "print('https://' + server_ip + ':14240') "
   ]
  },
  {
   "cell_type": "markdown",
   "metadata": {},
   "source": [
    "### Enter your password"
   ]
  },
  {
   "cell_type": "code",
   "execution_count": 3,
   "metadata": {},
   "outputs": [
    {
     "name": "stdout",
     "output_type": "stream",
     "text": [
      "········\n"
     ]
    }
   ],
   "source": [
    "import getpass\n",
    "\n",
    "password = getpass.getpass()"
   ]
  },
  {
   "cell_type": "markdown",
   "metadata": {},
   "source": [
    "### Download a certificate from the server"
   ]
  },
  {
   "cell_type": "code",
   "execution_count": 4,
   "metadata": {},
   "outputs": [],
   "source": [
    "!openssl s_client -connect $server_ip:14240 < /dev/null 2> /dev/null | openssl x509 -text > my-cert.txt"
   ]
  },
  {
   "cell_type": "markdown",
   "metadata": {},
   "source": [
    "### Download the GSQL client java tar file\n",
    "\n",
    "You must have the Java JDK runtime installed. You can download it from Oracle's [download page](https://www.oracle.com/java/technologies/javase-downloads.html)."
   ]
  },
  {
   "cell_type": "code",
   "execution_count": 5,
   "metadata": {},
   "outputs": [
    {
     "data": {
      "text/plain": [
       "('gsql_client.jar', <http.client.HTTPMessage at 0x7f82bd837d10>)"
      ]
     },
     "execution_count": 5,
     "metadata": {},
     "output_type": "execute_result"
    }
   ],
   "source": [
    "import urllib.request\n",
    "\n",
    "client_version = '2.6.0'\n",
    "\n",
    "jar_url = ('https://bintray.com/api/ui/download/tigergraphecosys/tgjars/' \n",
    "           + 'com/tigergraph/client/gsql_client/' + client_version \n",
    "           + '/gsql_client-' + client_version + '.jar')\n",
    "           \n",
    "urllib.request.urlretrieve(jar_url, 'gsql_client.jar')"
   ]
  },
  {
   "cell_type": "markdown",
   "metadata": {},
   "source": [
    "### Define a `gsql` function to handle input and output to the GSQL client "
   ]
  },
  {
   "cell_type": "code",
   "execution_count": 6,
   "metadata": {},
   "outputs": [],
   "source": [
    "cmd = ['java', '-DGSQL_CLIENT_VERSION=v2_6_0', '-jar', 'gsql_client.jar', '-cacert', \n",
    "       'my-cert.txt','-u', 'tigergraph', '-p', password, '-ip', server_ip]\n",
    "\n",
    "import subprocess, yaml, re\n",
    "\n",
    "def gsql(query, options=['-g','social']):\n",
    "    \n",
    "    comp = subprocess.run(cmd + options + [query], text=True, capture_output=True)\n",
    "    \n",
    "    try:\n",
    "        json_string = re.search('(\\{|\\[).*$',comp.stdout.replace('\\n',''))[0]\n",
    "        json_object = yaml.safe_load(json_string)\n",
    "    except:\n",
    "        print(comp.stdout)\n",
    "        return\n",
    "    else:\n",
    "        return json_object"
   ]
  },
  {
   "cell_type": "markdown",
   "metadata": {},
   "source": [
    "## Set up the graph"
   ]
  },
  {
   "cell_type": "markdown",
   "metadata": {},
   "source": [
    "### Write data files to disk\n",
    "\n",
    "Run the next two cells then go to GraphStudio and select `Map Data to Graph` and `Add data file`. Upload the csv files. After uploading you can hit `Cancel`, as the files are already on the server. "
   ]
  },
  {
   "cell_type": "code",
   "execution_count": 7,
   "metadata": {},
   "outputs": [
    {
     "name": "stdout",
     "output_type": "stream",
     "text": [
      "Overwriting person.csv\n"
     ]
    }
   ],
   "source": [
    "%%writefile person.csv\n",
    "name,gender,age,state\n",
    "Tom,male,40,ca\n",
    "Dan,male,34,ny\n",
    "Jenny,female,25,tx\n",
    "Kevin,male,28,az\n",
    "Amily,female,22,ca\n",
    "Nancy,female,20,ky\n",
    "Jack,male,26,fl"
   ]
  },
  {
   "cell_type": "code",
   "execution_count": 8,
   "metadata": {},
   "outputs": [
    {
     "name": "stdout",
     "output_type": "stream",
     "text": [
      "Overwriting friendship.csv\n"
     ]
    }
   ],
   "source": [
    "%%writefile friendship.csv\n",
    "person1,person2,date\n",
    "Tom,Dan,2017-06-03\n",
    "Tom,Jenny,2015-01-01\n",
    "Dan,Jenny,2016-08-03\n",
    "Jenny,Amily,2015-06-08\n",
    "Dan,Nancy,2016-01-03\n",
    "Nancy,Jack,2017-03-02\n",
    "Dan,Kevin,2015-12-30"
   ]
  },
  {
   "cell_type": "markdown",
   "metadata": {},
   "source": [
    "### Clear the graph"
   ]
  },
  {
   "cell_type": "code",
   "execution_count": 9,
   "metadata": {},
   "outputs": [
    {
     "name": "stdout",
     "output_type": "stream",
     "text": [
      "========================\n",
      "Trying version: v2_6_0\n",
      "Connecting to yaniv.i.tgcloud.io\n",
      "If there is any relative path, it is relative to tigergraph/dev/gdk/gsql\n",
      "Dropping all, about 1 minute ...\n",
      "Abort all active loading jobs\n",
      "Try to abort all loading jobs on graph social, it may take a while ...\n",
      "[ABORT_SUCCESS] No active Loading Job to abort.\n",
      "\n",
      "Shutdown restpp gse gpe ...\n",
      "Graph store /home/tigergraph/tigergraph/gstore/0/ has been cleared!\n",
      "Everything is dropped.\n",
      "\n"
     ]
    }
   ],
   "source": [
    "gsql('drop all', options=[])"
   ]
  },
  {
   "cell_type": "markdown",
   "metadata": {},
   "source": [
    "### Create the graph schema\n",
    "\n",
    "See [GSQL 101 - Module 1: Graph Schema](https://youtu.be/him2Uy3Nn7Y)\n"
   ]
  },
  {
   "cell_type": "code",
   "execution_count": 10,
   "metadata": {},
   "outputs": [
    {
     "data": {
      "text/html": [
       "\n",
       "        <iframe\n",
       "            width=\"560\"\n",
       "            height=\"315\"\n",
       "            src=\"https://www.youtube.com/embed/him2Uy3Nn7Y\"\n",
       "            frameborder=\"0\"\n",
       "            allowfullscreen\n",
       "        ></iframe>\n",
       "        "
      ],
      "text/plain": [
       "<IPython.lib.display.IFrame at 0x7f82bda78290>"
      ]
     },
     "execution_count": 10,
     "metadata": {},
     "output_type": "execute_result"
    }
   ],
   "source": [
    "from IPython.display import IFrame\n",
    "\n",
    "IFrame(width=560, height=315, src='https://www.youtube.com/embed/him2Uy3Nn7Y')"
   ]
  },
  {
   "cell_type": "code",
   "execution_count": 11,
   "metadata": {},
   "outputs": [
    {
     "name": "stdout",
     "output_type": "stream",
     "text": [
      "========================\n",
      "Trying version: v2_6_0\n",
      "Connecting to yaniv.i.tgcloud.io\n",
      "If there is any relative path, it is relative to tigergraph/dev/gdk/gsql\n",
      "The vertex type person is created.\n",
      "The edge type friendship is created.\n",
      "\n",
      "Restarting gse gpe restpp ...\n",
      "\n",
      "Finish restarting services in 10.430 seconds!\n",
      "The graph social is created.\n",
      "\n"
     ]
    }
   ],
   "source": [
    "gsql('''\n",
    "create vertex person (primary_id name string, name string, age int, \n",
    "                      gender string, state string)\n",
    "                      \n",
    "create undirected edge friendship (from person, to person, \n",
    "                                   connect_day datetime)\n",
    "\n",
    "create graph social (person, friendship)\n",
    "''', options=[])"
   ]
  },
  {
   "cell_type": "markdown",
   "metadata": {},
   "source": [
    "### Create data loading job and run it\n",
    "\n",
    "See [GSQL 101 - Module 2: Data Loading](https://youtu.be/IFfR3tQNhoA)"
   ]
  },
  {
   "cell_type": "code",
   "execution_count": 12,
   "metadata": {},
   "outputs": [
    {
     "data": {
      "text/html": [
       "\n",
       "        <iframe\n",
       "            width=\"560\"\n",
       "            height=\"315\"\n",
       "            src=\"https://www.youtube.com/embed/IFfR3tQNhoA\"\n",
       "            frameborder=\"0\"\n",
       "            allowfullscreen\n",
       "        ></iframe>\n",
       "        "
      ],
      "text/plain": [
       "<IPython.lib.display.IFrame at 0x7f82bda78b90>"
      ]
     },
     "execution_count": 12,
     "metadata": {},
     "output_type": "execute_result"
    }
   ],
   "source": [
    "IFrame(width=560, height=315, src='https://www.youtube.com/embed/IFfR3tQNhoA')"
   ]
  },
  {
   "cell_type": "code",
   "execution_count": 13,
   "metadata": {},
   "outputs": [
    {
     "name": "stdout",
     "output_type": "stream",
     "text": [
      "========================\n",
      "Trying version: v2_6_0\n",
      "Connecting to yaniv.i.tgcloud.io\n",
      "If there is any relative path, it is relative to tigergraph/dev/gdk/gsql\n",
      "The job load_social is created.\n",
      "[Tip: Use \"CTRL + C\" to stop displaying the loading status update, then use \"SHOW LOADING STATUS jobid\" to track the loading progress again]\n",
      "[Tip: Manage loading jobs with \"ABORT/RESUME LOADING JOB jobid\"]\n",
      "Starting the following job, i.e.\n",
      "  JobName: load_social, jobid: social.load_social.file.m1.1592779592575\n",
      "  Loading log: '/home/tigergraph/tigergraph/logs/restpp/restpp_loader_logs/social/social.load_social.file.m1.1592779592575.log'\n",
      "\n",
      "Job \"social.load_social.file.m1.1592779592575\" loading status\n",
      "[RUNNING] m1 ( Finished: 0 / Total: 2 )\n",
      "\u001b[2A\u001b[2KJob \"social.load_social.file.m1.1592779592575\" loading status\n",
      "\u001b[2K[RUNNING] m1 ( Finished: 2 / Total: 2 )\n",
      "  [LOADED]\n",
      "  +--------------------------------------------------------------------------------------------------+\n",
      "  |                                              FILENAME |   LOADED LINES |   AVG SPEED |   DURATION|\n",
      "  |    /home/tigergraph/tigergraph/loadingData/person.csv |              8 |       7 l/s |     1.00 s|\n",
      "  |/home/tigergraph/tigergraph/loadingData/friendship.csv |              8 |       7 l/s |     1.00 s|\n",
      "  +--------------------------------------------------------------------------------------------------+\n",
      "\u001b[8A\u001b[2KJob \"social.load_social.file.m1.1592779592575\" loading status\n",
      "\u001b[2K[FINISHED] m1 ( Finished: 2 / Total: 2 )\n",
      "\u001b[2K  [LOADED]\n",
      "\u001b[2K  +--------------------------------------------------------------------------------------------------+\n",
      "\u001b[2K  |                                              FILENAME |   LOADED LINES |   AVG SPEED |   DURATION|\n",
      "\u001b[2K  |/home/tigergraph/tigergraph/loadingData/friendship.csv |              8 |       7 l/s |     1.00 s|\n",
      "\u001b[2K  |    /home/tigergraph/tigergraph/loadingData/person.csv |              8 |       7 l/s |     1.00 s|\n",
      "\u001b[2K  +--------------------------------------------------------------------------------------------------+\n",
      "\n"
     ]
    }
   ],
   "source": [
    "gsql('''\n",
    "create loading job load_social for graph social {\n",
    "    define filename file1=\"~/tigergraph/loadingData/person.csv\";\n",
    "    define filename file2=\"~/tigergraph/loadingData/friendship.csv\";\n",
    "    \n",
    "    load file1 to vertex person values ($\"name\", $\"name\", $\"age\", $\"gender\", $\"state\") \n",
    "       using header=\"true\", separator=\",\";\n",
    "    \n",
    "    load file2 to edge friendship values ($\"person1\", $\"person2\", $\"date\") \n",
    "       using header=\"true\", separator=\",\";   \n",
    "}\n",
    "\n",
    "run loading job load_social\n",
    "''')"
   ]
  },
  {
   "cell_type": "code",
   "execution_count": 14,
   "metadata": {},
   "outputs": [
    {
     "name": "stdout",
     "output_type": "stream",
     "text": [
      "========================\n",
      "Trying version: v2_6_0\n",
      "Connecting to yaniv.i.tgcloud.io\n",
      "If there is any relative path, it is relative to tigergraph/dev/gdk/gsql\n",
      "---- Graph social\n",
      "Vertex Types: \n",
      "  - VERTEX person(PRIMARY_ID name STRING, name STRING, age INT, gender STRING, state STRING) WITH STATS=\"OUTDEGREE_BY_EDGETYPE\"\n",
      "Edge Types: \n",
      "  - UNDIRECTED EDGE friendship(FROM person, TO person, connect_day DATETIME)\n",
      "\n",
      "Graphs: \n",
      "  - Graph social(person:v, friendship:e)\n",
      "Jobs: \n",
      "  - CREATE LOADING JOB load_social FOR GRAPH social {\n",
      "      DEFINE FILENAME file2 = \"~/tigergraph/loadingData/friendship.csv\";\n",
      "      DEFINE FILENAME file1 = \"~/tigergraph/loadingData/person.csv\";\n",
      "      LOAD file1 TO VERTEX person VALUES($\"name\", $\"name\", $\"age\", $\"gender\", $\"state\") USING SEPARATOR=\",\", HEADER=\"true\", EOL=\"\\n\";\n",
      "      LOAD file2 TO EDGE friendship VALUES($\"person1\", $\"person2\", $\"date\") USING SEPARATOR=\",\", HEADER=\"true\", EOL=\"\\n\";\n",
      "    }\n",
      "\n",
      "Queries: \n",
      "\n",
      "\n",
      "\n",
      "\n",
      "\n"
     ]
    }
   ],
   "source": [
    "gsql('ls')"
   ]
  },
  {
   "cell_type": "markdown",
   "metadata": {},
   "source": [
    "## Built-in `SELECT` queries\n",
    "\n",
    "See [GSQL 101 - Module 3: Graph Inspection Language](https://youtu.be/akGOSEWMC8I)"
   ]
  },
  {
   "cell_type": "code",
   "execution_count": 15,
   "metadata": {},
   "outputs": [
    {
     "data": {
      "text/html": [
       "\n",
       "        <iframe\n",
       "            width=\"560\"\n",
       "            height=\"315\"\n",
       "            src=\"https://www.youtube.com/embed/akGOSEWMC8I\"\n",
       "            frameborder=\"0\"\n",
       "            allowfullscreen\n",
       "        ></iframe>\n",
       "        "
      ],
      "text/plain": [
       "<IPython.lib.display.IFrame at 0x7f82bda78990>"
      ]
     },
     "execution_count": 15,
     "metadata": {},
     "output_type": "execute_result"
    }
   ],
   "source": [
    "IFrame(width=560, height=315, src='https://www.youtube.com/embed/akGOSEWMC8I')"
   ]
  },
  {
   "cell_type": "markdown",
   "metadata": {},
   "source": [
    "### `SELECT` queries return a native Python structure"
   ]
  },
  {
   "cell_type": "code",
   "execution_count": 16,
   "metadata": {},
   "outputs": [
    {
     "data": {
      "text/plain": [
       "[{'count': 7, 'v_type': 'person'}]"
      ]
     },
     "execution_count": 16,
     "metadata": {},
     "output_type": "execute_result"
    }
   ],
   "source": [
    "q = gsql('select count(*) from person')\n",
    "q"
   ]
  },
  {
   "cell_type": "code",
   "execution_count": 17,
   "metadata": {},
   "outputs": [
    {
     "data": {
      "text/plain": [
       "7"
      ]
     },
     "execution_count": 17,
     "metadata": {},
     "output_type": "execute_result"
    }
   ],
   "source": [
    "q[0]['count']"
   ]
  },
  {
   "cell_type": "markdown",
   "metadata": {},
   "source": [
    "### Since this is GSQL the `FROM` argument can be a pattern "
   ]
  },
  {
   "cell_type": "code",
   "execution_count": 18,
   "metadata": {},
   "outputs": [
    {
     "data": {
      "text/plain": [
       "[{'count': 7, 'e_type': 'friendship'}]"
      ]
     },
     "execution_count": 18,
     "metadata": {},
     "output_type": "execute_result"
    }
   ],
   "source": [
    "gsql('select count() from person-(friendship)-person')"
   ]
  },
  {
   "cell_type": "markdown",
   "metadata": {},
   "source": [
    "### The `WHERE` arument is a filter on the `FROM` pattern"
   ]
  },
  {
   "cell_type": "code",
   "execution_count": 19,
   "metadata": {},
   "outputs": [
    {
     "data": {
      "text/plain": [
       "[{'v_id': 'Tom',\n",
       "  'attributes': {'gender': 'male', 'name': 'Tom', 'state': 'ca', 'age': 40},\n",
       "  'v_type': 'person'}]"
      ]
     },
     "execution_count": 19,
     "metadata": {},
     "output_type": "execute_result"
    }
   ],
   "source": [
    "gsql('select * from person where primary_id==\"Tom\"')"
   ]
  },
  {
   "cell_type": "code",
   "execution_count": 20,
   "metadata": {},
   "outputs": [
    {
     "data": {
      "text/plain": [
       "[{'v_id': 'Nancy',\n",
       "  'attributes': {'gender': 'female',\n",
       "   'name': 'Nancy',\n",
       "   'state': 'ky',\n",
       "   'age': 20},\n",
       "  'v_type': 'person'},\n",
       " {'v_id': 'Jenny',\n",
       "  'attributes': {'gender': 'female',\n",
       "   'name': 'Jenny',\n",
       "   'state': 'tx',\n",
       "   'age': 25},\n",
       "  'v_type': 'person'},\n",
       " {'v_id': 'Amily',\n",
       "  'attributes': {'gender': 'female',\n",
       "   'name': 'Amily',\n",
       "   'state': 'ca',\n",
       "   'age': 22},\n",
       "  'v_type': 'person'}]"
      ]
     },
     "execution_count": 20,
     "metadata": {},
     "output_type": "execute_result"
    }
   ],
   "source": [
    "q = gsql('select * from person where gender==\"female\"')\n",
    "q "
   ]
  },
  {
   "cell_type": "markdown",
   "metadata": {},
   "source": [
    "### Use Python's list comprehension to acess results"
   ]
  },
  {
   "cell_type": "code",
   "execution_count": 21,
   "metadata": {},
   "outputs": [
    {
     "data": {
      "text/plain": [
       "[20, 25, 22]"
      ]
     },
     "execution_count": 21,
     "metadata": {},
     "output_type": "execute_result"
    }
   ],
   "source": [
    "[v['attributes']['age'] for v in q]"
   ]
  },
  {
   "cell_type": "markdown",
   "metadata": {},
   "source": [
    "### Transform into a Pandas DataFrame"
   ]
  },
  {
   "cell_type": "code",
   "execution_count": 22,
   "metadata": {},
   "outputs": [
    {
     "data": {
      "text/html": [
       "<div>\n",
       "<style scoped>\n",
       "    .dataframe tbody tr th:only-of-type {\n",
       "        vertical-align: middle;\n",
       "    }\n",
       "\n",
       "    .dataframe tbody tr th {\n",
       "        vertical-align: top;\n",
       "    }\n",
       "\n",
       "    .dataframe thead th {\n",
       "        text-align: right;\n",
       "    }\n",
       "</style>\n",
       "<table border=\"1\" class=\"dataframe\">\n",
       "  <thead>\n",
       "    <tr style=\"text-align: right;\">\n",
       "      <th></th>\n",
       "      <th>gender</th>\n",
       "      <th>name</th>\n",
       "      <th>state</th>\n",
       "      <th>age</th>\n",
       "    </tr>\n",
       "  </thead>\n",
       "  <tbody>\n",
       "    <tr>\n",
       "      <th>0</th>\n",
       "      <td>female</td>\n",
       "      <td>Nancy</td>\n",
       "      <td>ky</td>\n",
       "      <td>20</td>\n",
       "    </tr>\n",
       "    <tr>\n",
       "      <th>1</th>\n",
       "      <td>female</td>\n",
       "      <td>Jenny</td>\n",
       "      <td>tx</td>\n",
       "      <td>25</td>\n",
       "    </tr>\n",
       "    <tr>\n",
       "      <th>2</th>\n",
       "      <td>female</td>\n",
       "      <td>Amily</td>\n",
       "      <td>ca</td>\n",
       "      <td>22</td>\n",
       "    </tr>\n",
       "  </tbody>\n",
       "</table>\n",
       "</div>"
      ],
      "text/plain": [
       "   gender   name state  age\n",
       "0  female  Nancy    ky   20\n",
       "1  female  Jenny    tx   25\n",
       "2  female  Amily    ca   22"
      ]
     },
     "execution_count": 22,
     "metadata": {},
     "output_type": "execute_result"
    }
   ],
   "source": [
    "import pandas as pd\n",
    "\n",
    "pd.DataFrame([v['attributes'] for v in q])"
   ]
  },
  {
   "cell_type": "markdown",
   "metadata": {},
   "source": [
    "## User defined queries\n",
    "\n",
    "See [GSQL 101 - Module 4: Basic GSQL](https://youtu.be/eK6f7qnylj0) "
   ]
  },
  {
   "cell_type": "code",
   "execution_count": 23,
   "metadata": {},
   "outputs": [
    {
     "data": {
      "text/html": [
       "\n",
       "        <iframe\n",
       "            width=\"560\"\n",
       "            height=\"315\"\n",
       "            src=\"https://www.youtube.com/embed/eK6f7qnylj0\"\n",
       "            frameborder=\"0\"\n",
       "            allowfullscreen\n",
       "        ></iframe>\n",
       "        "
      ],
      "text/plain": [
       "<IPython.lib.display.IFrame at 0x7f82bea218d0>"
      ]
     },
     "execution_count": 23,
     "metadata": {},
     "output_type": "execute_result"
    }
   ],
   "source": [
    "IFrame(width=560, height=315, src='https://www.youtube.com/embed/eK6f7qnylj0')"
   ]
  },
  {
   "cell_type": "markdown",
   "metadata": {},
   "source": [
    "### Queries can saved and compiled"
   ]
  },
  {
   "cell_type": "code",
   "execution_count": 24,
   "metadata": {},
   "outputs": [
    {
     "name": "stdout",
     "output_type": "stream",
     "text": [
      "========================\n",
      "Trying version: v2_6_0\n",
      "Connecting to yaniv.i.tgcloud.io\n",
      "If there is any relative path, it is relative to tigergraph/dev/gdk/gsql\n",
      "The query hello has been added!\n",
      "Start installing queries, about 1 minute ...\n",
      "hello query: curl -X GET 'https://127.0.0.1:9000/query/social/hello?p=VALUE'. Add -H \"Authorization: Bearer TOKEN\" if authentication is enabled.\n",
      "\n",
      "\n",
      "[                                                                 ] 0% (0/1)   \n",
      "[                                                                 ] 0% (0/1)   \n",
      "[=====                                                            ] 7% (0/1)   \n",
      "[==========                                                       ] 14% (0/1)  \n",
      "[==============                                                   ] 21% (0/1)  \n",
      "[===================                                              ] 29% (0/1)  \n",
      "[========================                                         ] 36% (0/1)  \n",
      "[============================                                     ] 43% (0/1)  \n",
      "[==================================                               ] 51% (0/1)  \n",
      "[======================================                           ] 58% (0/1)  \n",
      "[===========================================                      ] 65% (0/1)  \n",
      "[================================================                 ] 73% (0/1)  \n",
      "[====================================================             ] 80% (0/1)  \n",
      "[=========================================================        ] 87% (0/1)  \n",
      "[==============================================================   ] 95% (0/1)  \n",
      "[=================================================================] 100% (1/1) \n",
      "\n"
     ]
    }
   ],
   "source": [
    "gsql('''\n",
    "create query hello(vertex<person> p) for graph social{\n",
    "    \n",
    "    start = {p};\n",
    "    tgt = select t from start:s-(friendship:e)-person:t ;\n",
    "    print tgt;\n",
    "}\n",
    "\n",
    "install query hello\n",
    "''')"
   ]
  },
  {
   "cell_type": "markdown",
   "metadata": {},
   "source": [
    "### Then run the query and process the output"
   ]
  },
  {
   "cell_type": "code",
   "execution_count": 25,
   "metadata": {},
   "outputs": [
    {
     "data": {
      "text/plain": [
       "{'error': False,\n",
       " 'message': '',\n",
       " 'version': {'schema': 0, 'edition': 'enterprise', 'api': 'v2'},\n",
       " 'results': [{'tgt': [{'v_id': 'Dan',\n",
       "     'attributes': {'gender': 'male', 'name': 'Dan', 'state': 'ny', 'age': 34},\n",
       "     'v_type': 'person'},\n",
       "    {'v_id': 'Jenny',\n",
       "     'attributes': {'gender': 'female',\n",
       "      'name': 'Jenny',\n",
       "      'state': 'tx',\n",
       "      'age': 25},\n",
       "     'v_type': 'person'}]}]}"
      ]
     },
     "execution_count": 25,
     "metadata": {},
     "output_type": "execute_result"
    }
   ],
   "source": [
    "q = gsql('run query hello(\"Tom\")')\n",
    "q"
   ]
  },
  {
   "cell_type": "code",
   "execution_count": 26,
   "metadata": {},
   "outputs": [
    {
     "data": {
      "text/plain": [
       "[34, 25]"
      ]
     },
     "execution_count": 26,
     "metadata": {},
     "output_type": "execute_result"
    }
   ],
   "source": [
    "[v['attributes']['age'] for v in q['results'][0]['tgt']]"
   ]
  },
  {
   "cell_type": "markdown",
   "metadata": {},
   "source": [
    "## Accumulators\n",
    "\n",
    "See [GSQL 101 - Module 5: Advanced GSQL (Accumulators)](https://youtu.be/ysrm9OjVoqg)"
   ]
  },
  {
   "cell_type": "code",
   "execution_count": 27,
   "metadata": {},
   "outputs": [
    {
     "data": {
      "text/html": [
       "\n",
       "        <iframe\n",
       "            width=\"560\"\n",
       "            height=\"315\"\n",
       "            src=\"https://www.youtube.com/embed/ysrm9OjVoqg\"\n",
       "            frameborder=\"0\"\n",
       "            allowfullscreen\n",
       "        ></iframe>\n",
       "        "
      ],
      "text/plain": [
       "<IPython.lib.display.IFrame at 0x7f82bea3fe10>"
      ]
     },
     "execution_count": 27,
     "metadata": {},
     "output_type": "execute_result"
    }
   ],
   "source": [
    "IFrame(width=560, height=315, src='https://www.youtube.com/embed/ysrm9OjVoqg')"
   ]
  },
  {
   "cell_type": "markdown",
   "metadata": {},
   "source": [
    "### Measuring hop distance requires that we flag every vertex we visit using a local accumulator `@visited`"
   ]
  },
  {
   "cell_type": "code",
   "execution_count": 28,
   "metadata": {},
   "outputs": [
    {
     "name": "stdout",
     "output_type": "stream",
     "text": [
      "========================\n",
      "Trying version: v2_6_0\n",
      "Connecting to yaniv.i.tgcloud.io\n",
      "If there is any relative path, it is relative to tigergraph/dev/gdk/gsql\n",
      "The query hello2 has been added!\n",
      "Start installing queries, about 1 minute ...\n",
      "hello2 query: curl -X GET 'https://127.0.0.1:9000/query/social/hello2?p=VALUE'. Add -H \"Authorization: Bearer TOKEN\" if authentication is enabled.\n",
      "\n",
      "\n",
      "[                                                                 ] 0% (0/1)   \n",
      "[                                                                 ] 0% (0/1)   \n",
      "[===============================                                  ] 47% (0/1)  \n",
      "[==============================================================   ] 95% (0/1)  \n",
      "[=================================================================] 100% (1/1) \n",
      "\n"
     ]
    }
   ],
   "source": [
    "gsql('''\n",
    "create query hello2(vertex<person> p) for graph social {\n",
    "    \n",
    "    OrAccum @visited = false;\n",
    "    AvgAccum @@aveAge;\n",
    "    \n",
    "    start = {p};\n",
    "    \n",
    "    firstHop = select t from start:s-(friendship:e)-person:t\n",
    "               accum t.@visited += true, s.@visited += true;\n",
    "    \n",
    "    secondHop = select t from firstHop:s-(friendship:e)-person:t\n",
    "                where t.@visited == false\n",
    "                post_accum @@aveAge += t.age;\n",
    "    \n",
    "    print secondHop;\n",
    "    print @@aveAge;\n",
    "            \n",
    "}\n",
    "\n",
    "install query hello2\n",
    "''')"
   ]
  },
  {
   "cell_type": "markdown",
   "metadata": {},
   "source": [
    "### Results exclude Jenny and Dan even though they are a friend of a friend of Tom because they are also direct friends of Tom"
   ]
  },
  {
   "cell_type": "code",
   "execution_count": 29,
   "metadata": {},
   "outputs": [
    {
     "data": {
      "text/plain": [
       "{'error': False,\n",
       " 'message': '',\n",
       " 'version': {'schema': 0, 'edition': 'enterprise', 'api': 'v2'},\n",
       " 'results': [{'secondHop': [{'v_id': 'Amily',\n",
       "     'attributes': {'gender': 'female',\n",
       "      '@visited': False,\n",
       "      'name': 'Amily',\n",
       "      'state': 'ca',\n",
       "      'age': 22},\n",
       "     'v_type': 'person'},\n",
       "    {'v_id': 'Kevin',\n",
       "     'attributes': {'gender': 'male',\n",
       "      '@visited': False,\n",
       "      'name': 'Kevin',\n",
       "      'state': 'az',\n",
       "      'age': 28},\n",
       "     'v_type': 'person'},\n",
       "    {'v_id': 'Nancy',\n",
       "     'attributes': {'gender': 'female',\n",
       "      '@visited': False,\n",
       "      'name': 'Nancy',\n",
       "      'state': 'ky',\n",
       "      'age': 20},\n",
       "     'v_type': 'person'}]},\n",
       "  {'@@aveAge': 23.33333}]}"
      ]
     },
     "execution_count": 29,
     "metadata": {},
     "output_type": "execute_result"
    }
   ],
   "source": [
    "q = gsql('run query hello2(\"Tom\")')\n",
    "q"
   ]
  },
  {
   "cell_type": "markdown",
   "metadata": {},
   "source": [
    "### We can verify that the global accumulator `@@aveAge` did its job correctly"
   ]
  },
  {
   "cell_type": "code",
   "execution_count": 30,
   "metadata": {},
   "outputs": [
    {
     "data": {
      "text/plain": [
       "23.33333"
      ]
     },
     "execution_count": 30,
     "metadata": {},
     "output_type": "execute_result"
    }
   ],
   "source": [
    "q['results'][1]['@@aveAge']"
   ]
  },
  {
   "cell_type": "code",
   "execution_count": 31,
   "metadata": {},
   "outputs": [
    {
     "data": {
      "text/plain": [
       "[22, 28, 20]"
      ]
     },
     "execution_count": 31,
     "metadata": {},
     "output_type": "execute_result"
    }
   ],
   "source": [
    "ages = [v['attributes']['age'] for v in q['results'][0]['secondHop']]\n",
    "ages"
   ]
  },
  {
   "cell_type": "code",
   "execution_count": 32,
   "metadata": {},
   "outputs": [
    {
     "data": {
      "text/plain": [
       "23.333333333333332"
      ]
     },
     "execution_count": 32,
     "metadata": {},
     "output_type": "execute_result"
    }
   ],
   "source": [
    "sum(ages)/len(ages)"
   ]
  },
  {
   "cell_type": "code",
   "execution_count": null,
   "metadata": {},
   "outputs": [],
   "source": []
  }
 ],
 "metadata": {
  "kernelspec": {
   "display_name": "Python 3",
   "language": "python",
   "name": "python3"
  },
  "language_info": {
   "codemirror_mode": {
    "name": "ipython",
    "version": 3
   },
   "file_extension": ".py",
   "mimetype": "text/x-python",
   "name": "python",
   "nbconvert_exporter": "python",
   "pygments_lexer": "ipython3",
   "version": "3.7.7"
  },
  "toc": {
   "base_numbering": 1,
   "nav_menu": {},
   "number_sections": false,
   "sideBar": true,
   "skip_h1_title": false,
   "title_cell": "Table of Contents",
   "title_sidebar": "Contents",
   "toc_cell": false,
   "toc_position": {},
   "toc_section_display": true,
   "toc_window_display": false
  }
 },
 "nbformat": 4,
 "nbformat_minor": 4
}
